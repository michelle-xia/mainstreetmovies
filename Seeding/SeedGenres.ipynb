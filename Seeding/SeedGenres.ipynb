{
 "cells": [
  {
   "cell_type": "code",
   "execution_count": 1,
   "metadata": {},
   "outputs": [
    {
     "name": "stdout",
     "output_type": "stream",
     "text": [
      "Requirement already satisfied: xlrd in /usr/local/Cellar/jupyterlab/2.2.8/libexec/lib/python3.8/site-packages (1.2.0)\r\n"
     ]
    }
   ],
   "source": [
    "import sys\n",
    "!{sys.executable} -m pip install xlrd\n",
    "import xlrd\n",
    "import pandas as pd"
   ]
  },
  {
   "cell_type": "code",
   "execution_count": 2,
   "metadata": {},
   "outputs": [],
   "source": [
    "xlsx = pd.ExcelFile('movie.xlsx')\n",
    "movies = pd.read_excel(xlsx, 'Movies')\n",
    "customers = pd.read_excel(xlsx, 'Customers')\n",
    "employees = pd.read_excel(xlsx, 'Employees')"
   ]
  },
  {
   "cell_type": "code",
   "execution_count": 7,
   "metadata": {},
   "outputs": [
    {
     "name": "stdout",
     "output_type": "stream",
     "text": [
      "{'Thriller', 'Science Fiction', 'Comedy', 'Musical', 'Fantasy', 'Western', 'Animation', 'Drama', 'Romance', 'Adventure', 'Crime', 'War', 'Action', 'Family', 'Horror'}\n"
     ]
    }
   ],
   "source": [
    "# Making the C# code for movies\n",
    "\n",
    "genre_set = set()\n",
    "\n",
    "for genre in movies[\"Genres\"]:\n",
    "  genre_set.add(genre)\n",
    "print(genre_set)\n"
   ]
  },
  {
   "cell_type": "code",
   "execution_count": 6,
   "metadata": {},
   "outputs": [
    {
     "name": "stdout",
     "output_type": "stream",
     "text": [
      "\n",
      "Genre g1 = new Genre() {GenreName = \"Thriller\"};\n",
      "AllGenres.Add(g1);\n",
      "\n",
      "Genre g2 = new Genre() {GenreName = \"Science Fiction\"};\n",
      "AllGenres.Add(g2);\n",
      "\n",
      "Genre g3 = new Genre() {GenreName = \"Comedy\"};\n",
      "AllGenres.Add(g3);\n",
      "\n",
      "Genre g4 = new Genre() {GenreName = \"Musical\"};\n",
      "AllGenres.Add(g4);\n",
      "\n",
      "Genre g5 = new Genre() {GenreName = \"Fantasy\"};\n",
      "AllGenres.Add(g5);\n",
      "\n",
      "Genre g6 = new Genre() {GenreName = \"Western\"};\n",
      "AllGenres.Add(g6);\n",
      "\n",
      "Genre g7 = new Genre() {GenreName = \"Animation\"};\n",
      "AllGenres.Add(g7);\n",
      "\n",
      "Genre g8 = new Genre() {GenreName = \"Drama\"};\n",
      "AllGenres.Add(g8);\n",
      "\n",
      "Genre g9 = new Genre() {GenreName = \"Romance\"};\n",
      "AllGenres.Add(g9);\n",
      "\n",
      "Genre g10 = new Genre() {GenreName = \"Adventure\"};\n",
      "AllGenres.Add(g10);\n",
      "\n",
      "Genre g11 = new Genre() {GenreName = \"Crime\"};\n",
      "AllGenres.Add(g11);\n",
      "\n",
      "Genre g12 = new Genre() {GenreName = \"War\"};\n",
      "AllGenres.Add(g12);\n",
      "\n",
      "Genre g13 = new Genre() {GenreName = \"Action\"};\n",
      "AllGenres.Add(g13);\n",
      "\n",
      "Genre g14 = new Genre() {GenreName = \"Family\"};\n",
      "AllGenres.Add(g14);\n",
      "\n",
      "Genre g15 = new Genre() {GenreName = \"Horror\"};\n",
      "AllGenres.Add(g15);\n",
      "\n"
     ]
    }
   ],
   "source": [
    "counter = 1\n",
    "beg = \"\"\n",
    "for genre in genre_set:\n",
    "    beg += \"\\nGenre g\" + str(counter) + \" = new Genre() {GenreName = \\\"%s\\\"};\" % (genre) \n",
    "    beg += \"\\nAllGenres.Add(g%d);\\n\" % (counter)\n",
    "    counter += 1\n",
    "print(beg)"
   ]
  },
  {
   "cell_type": "code",
   "execution_count": null,
   "metadata": {},
   "outputs": [],
   "source": []
  }
 ],
 "metadata": {
  "kernelspec": {
   "display_name": "Python 3",
   "language": "python",
   "name": "python3"
  },
  "language_info": {
   "codemirror_mode": {
    "name": "ipython",
    "version": 3
   },
   "file_extension": ".py",
   "mimetype": "text/x-python",
   "name": "python",
   "nbconvert_exporter": "python",
   "pygments_lexer": "ipython3",
   "version": "3.8.6"
  }
 },
 "nbformat": 4,
 "nbformat_minor": 4
}
